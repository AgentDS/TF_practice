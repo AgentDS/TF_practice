{
 "cells": [
  {
   "cell_type": "code",
   "execution_count": 1,
   "metadata": {},
   "outputs": [],
   "source": [
    "import tensorflow as tf\n",
    "import numpy as np\n",
    "import matplotlib.pyplot as plt\n",
    "rng = np.random"
   ]
  },
  {
   "cell_type": "code",
   "execution_count": 2,
   "metadata": {},
   "outputs": [],
   "source": [
    "learning_rate = 0.01\n",
    "training_epochs = 1000\n",
    "display_step = 50"
   ]
  },
  {
   "cell_type": "code",
   "execution_count": 3,
   "metadata": {},
   "outputs": [],
   "source": [
    "train_X = np.asarray([3.3,4.4,5.5,6.71,6.93,4.168,9.779,6.182,7.59,2.167,\n",
    "                         7.042,10.791,5.313,7.997,5.654,9.27,3.1])\n",
    "train_Y = np.asarray([1.7,2.76,2.09,3.19,1.694,1.573,3.366,2.596,2.53,1.221,\n",
    "                         2.827,3.465,1.65,2.904,2.42,2.94,1.3])\n",
    "n_samples = train_X.shape[0]"
   ]
  },
  {
   "cell_type": "code",
   "execution_count": 4,
   "metadata": {},
   "outputs": [
    {
     "name": "stdout",
     "output_type": "stream",
     "text": [
      "WARNING:tensorflow:From /anaconda3/envs/tensorflow/lib/python3.6/site-packages/tensorflow/python/framework/op_def_library.py:263: colocate_with (from tensorflow.python.framework.ops) is deprecated and will be removed in a future version.\n",
      "Instructions for updating:\n",
      "Colocations handled automatically by placer.\n"
     ]
    }
   ],
   "source": [
    "# tf Graph Input\n",
    "X = tf.placeholder(\"float\")\n",
    "Y = tf.placeholder(\"float\")\n",
    "\n",
    "# Set model weights\n",
    "W = tf.Variable(rng.randn(),name=\"weight\")\n",
    "b = tf.Variable(rng.randn(),name='bias')"
   ]
  },
  {
   "cell_type": "code",
   "execution_count": 5,
   "metadata": {},
   "outputs": [
    {
     "name": "stdout",
     "output_type": "stream",
     "text": [
      "WARNING:tensorflow:From /anaconda3/envs/tensorflow/lib/python3.6/site-packages/tensorflow/python/ops/math_ops.py:3066: to_int32 (from tensorflow.python.ops.math_ops) is deprecated and will be removed in a future version.\n",
      "Instructions for updating:\n",
      "Use tf.cast instead.\n"
     ]
    }
   ],
   "source": [
    "# Construct a linear model\n",
    "pred = tf.add(tf.multiply(X,W),b)\n",
    "\n",
    "# Mean squared error\n",
    "cost = tf.reduce_sum(tf.pow(pred - Y,2)) / (2*n_samples)\n",
    "\n",
    "# Gradient descent\n",
    "optimizer = tf.train.GradientDescentOptimizer(learning_rate).minimize(cost)"
   ]
  },
  {
   "cell_type": "code",
   "execution_count": 6,
   "metadata": {},
   "outputs": [
    {
     "name": "stdout",
     "output_type": "stream",
     "text": [
      "Epoch: 0050 cost= 0.098599739 W= 0.33191973 b= 0.20921776\n",
      "Epoch: 0100 cost= 0.096098937 W= 0.32702342 b= 0.24444157\n",
      "Epoch: 0150 cost= 0.093887106 W= 0.32241833 b= 0.27757093\n",
      "Epoch: 0200 cost= 0.091930956 W= 0.31808698 b= 0.30873013\n",
      "Epoch: 0250 cost= 0.090200983 W= 0.31401342 b= 0.33803484\n",
      "Epoch: 0300 cost= 0.088670984 W= 0.31018203 b= 0.3655975\n",
      "Epoch: 0350 cost= 0.087317884 W= 0.3065785 b= 0.39152098\n",
      "Epoch: 0400 cost= 0.086121246 W= 0.30318943 b= 0.41590223\n",
      "Epoch: 0450 cost= 0.085063010 W= 0.30000177 b= 0.43883345\n",
      "Epoch: 0500 cost= 0.084127150 W= 0.29700372 b= 0.46040145\n",
      "Epoch: 0550 cost= 0.083299547 W= 0.294184 b= 0.48068646\n",
      "Epoch: 0600 cost= 0.082567759 W= 0.29153204 b= 0.49976403\n",
      "Epoch: 0650 cost= 0.081920609 W= 0.28903782 b= 0.5177074\n",
      "Epoch: 0700 cost= 0.081348367 W= 0.286692 b= 0.5345834\n",
      "Epoch: 0750 cost= 0.080842331 W= 0.28448552 b= 0.5504564\n",
      "Epoch: 0800 cost= 0.080394916 W= 0.28241023 b= 0.5653856\n",
      "Epoch: 0850 cost= 0.079999253 W= 0.28045836 b= 0.57942736\n",
      "Epoch: 0900 cost= 0.079649419 W= 0.27862245 b= 0.592635\n",
      "Epoch: 0950 cost= 0.079340115 W= 0.27689573 b= 0.60505694\n",
      "Epoch: 1000 cost= 0.079066694 W= 0.2752719 b= 0.6167385\n",
      "Optimization Finished!\n",
      "Training cost= 0.079066694 W= 0.2752719 b= 0.6167385 \n",
      "\n"
     ]
    },
    {
     "data": {
      "image/png": "[encoded data removed]",
      "text/plain": [
       "<Figure size 432x288 with 1 Axes>"
      ]
     },
     "metadata": {
      "needs_background": "light"
     },
     "output_type": "display_data"
    }
   ],
   "source": [
    "init = tf.global_variables_initializer()\n",
    "with tf.Session() as sess:\n",
    "    sess.run(init)\n",
    "    for epoch in range(training_epochs):\n",
    "        for (x,y) in zip(train_X,train_Y):\n",
    "            sess.run(optimizer,feed_dict={X:x,Y:y})\n",
    "        if (epoch+1) % display_step == 0:\n",
    "            c = sess.run(cost,feed_dict={X:train_X,Y:train_Y})\n",
    "            print(\"Epoch:\", '%04d' % (epoch+1), \"cost=\", \"{:.9f}\".format(c), \\\n",
    "                \"W=\", sess.run(W), \"b=\", sess.run(b))\n",
    "    print(\"Optimization Finished!\")\n",
    "    training_cost = sess.run(cost,feed_dict={X:train_X,Y:train_Y})\n",
    "    print(\"Training cost=\",training_cost,\"W=\",sess.run(W),\"b=\",sess.run(b),'\\n')\n",
    "    plt.plot(train_X, train_Y, 'ro', label='Original data')\n",
    "    plt.plot(train_X, sess.run(W) * train_X + sess.run(b), label='Fitted line')\n",
    "    plt.legend()\n",
    "    plt.show()"
   ]
  },
  {
   "cell_type": "code",
   "execution_count": null,
   "metadata": {},
   "outputs": [],
   "source": []
  }
 ],
 "metadata": {
  "kernelspec": {
   "display_name": "Python [conda env:tensorflow]",
   "language": "python",
   "name": "conda-env-tensorflow-py"
  },
  "language_info": {
   "codemirror_mode": {
    "name": "ipython",
    "version": 3
   },
   "file_extension": ".py",
   "mimetype": "text/x-python",
   "name": "python",
   "nbconvert_exporter": "python",
   "pygments_lexer": "ipython3",
   "version": "3.6.8"
  }
 },
 "nbformat": 4,
 "nbformat_minor": 2
}
